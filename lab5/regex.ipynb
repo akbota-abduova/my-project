{
 "cells": [
  {
   "cell_type": "code",
   "execution_count": null,
   "metadata": {
    "vscode": {
     "languageId": "plaintext"
    }
   },
   "outputs": [],
   "source": [
    "#Task 1\n",
    "def check1(s):\n",
    "    \n",
    "    pattern = r'.*a+b*.*'\n",
    "    if re.fullmatch(pattern, s):\n",
    "        return True\n",
    "    return False\n",
    "\n",
    "res =[]\n",
    "words = re.split(r'[ ,.?!\\n]', tasks)\n",
    "for i in words:\n",
    "    if check1(i):\n",
    "        res.append(i)\n",
    "        \n",
    "print(res)\n",
    "['early', 'Olivia', 'walked', 'park', 'fresh_air', 'a', 'and', 'distance', 'played', 'near', 'lake', 'small_stones', 'water', 'Nearby', 'an', 'artist', 'was', 'painting', 'a', 'beautiful_landscape', 'various', 'shades', 'and', 'also', 'saw', 'a', 'named', 'had', 'a', 'classic', 'Later', 'Olivia', 'name', 'was', 'and', 'MachineLearning', 'and', 'DataAnalysis', 'creating', 'a', 'that', 'CamelCaseWords', 'and', 'snake_case_words', 'was', 'also', 'an', 'analyzing', 'uppercase_and_lowercase_words', 'large', 'That', 'at', 'a', 'place', 'called', 'had', 'as', 'grilled_salmon', 'fresh_pasta', 'and', 'mixed_vegetables', 'waiting', 'Olivia', 'read', 'a', 'about', 'history_of_art', 'and', 'architecture', 'hand', 'was', 'organizing', 'an', 'leaving', 'Olivia', 'and', 'planned', 'babble', 'wanted', 'GrandCanyon', 'and', 'famous', 'landmarks', 'had', 'already', 'created', 'a', 'CentralLibrary', 'HistoricalMuseum', 'and', 'finalized', 'plans', 'that', 'weather_forecast', 'had', 'a', 'day', 'learning', 'and', 'agreed', 'that', 'day', 'crab', 'grab', 'a', 'snack', 'near', 'beach']"
   ]
  },
  {
   "cell_type": "code",
   "execution_count": null,
   "metadata": {
    "vscode": {
     "languageId": "plaintext"
    }
   },
   "outputs": [],
   "source": [
    "import re\n",
    "with open('text.txt', 'r', encoding='utf-8') as tasks:\n",
    "    tasks = tasks.read()"
   ]
  }
 ],
 "metadata": {
  "language_info": {
   "name": "python"
  }
 },
 "nbformat": 4,
 "nbformat_minor": 2
}
